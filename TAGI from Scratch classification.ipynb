{
  "cells": [
    {
      "cell_type": "markdown",
      "metadata": {},
      "source": [
        "# Implémentation TAGI pour classification d'images\n"
      ]
    },
    {
      "cell_type": "code",
      "execution_count": 1,
      "metadata": {},
      "outputs": [],
      "source": [
        "# -*- coding: utf-8 -*-\n",
        "import numpy as np\n",
        "import matplotlib.pyplot as plt\n",
        "import struct\n",
        "import os\n",
        "from sklearn.metrics import accuracy_score # Changed import for classification\n",
        "from tqdm import tqdm\n",
        "\n",
        "# fixe seed\n",
        "# np.random.seed(0)\n"
      ]
    },
    {
      "cell_type": "markdown",
      "metadata": {},
      "source": [
        "# Chargement et prétraitement des données MNIST\n"
      ]
    },
    {
      "cell_type": "code",
      "execution_count": 2,
      "metadata": {},
      "outputs": [],
      "source": [
        "def load_mnist_images(filename):\n",
        "    \"\"\"Loads MNIST images from an IDX file.\"\"\"\n",
        "    with open(filename, 'rb') as f:\n",
        "        magic, num_images, rows, cols = struct.unpack('>IIII', f.read(16))\n",
        "        if magic != 2051:\n",
        "            raise ValueError(f\"Invalid magic number {magic} in image file {filename}\")\n",
        "        images = np.frombuffer(f.read(), dtype=np.uint8).reshape(num_images, rows * cols)\n",
        "    return images\n",
        "\n",
        "def load_mnist_labels(filename):\n",
        "    \"\"\"Loads MNIST labels from an IDX file.\"\"\"\n",
        "    with open(filename, 'rb') as f:\n",
        "        magic, num_items = struct.unpack('>II', f.read(8))\n",
        "        if magic != 2049:\n",
        "            raise ValueError(f\"Invalid magic number {magic} in label file {filename}\")\n",
        "        labels = np.frombuffer(f.read(), dtype=np.uint8)\n",
        "    return labels\n",
        "\n",
        "def one_hot_encode(labels, num_classes=10):\n",
        "    \"\"\"Converts integer labels to one-hot encoded vectors.\"\"\"\n",
        "    return np.eye(num_classes)[labels]\n"
      ]
    },
    {
      "cell_type": "code",
      "execution_count": 3,
      "metadata": {},
      "outputs": [
        {
          "name": "stdout",
          "output_type": "stream",
          "text": [
            "Training data shape: X=(784, 54000), Y=(10, 54000)\n",
            "Validation data shape: X=(784, 6000), Y=(10, 6000)\n",
            "Test data shape: X=(784, 10000), Y=(10, 10000)\n"
          ]
        }
      ],
      "source": [
        "# Define paths to MNIST data\n",
        "mnist_path = 'data/mnist/'\n",
        "train_images_path = os.path.join(mnist_path, 'train-images-idx3-ubyte')\n",
        "train_labels_path = os.path.join(mnist_path, 'train-labels-idx1-ubyte')\n",
        "test_images_path = os.path.join(mnist_path, 't10k-images-idx3-ubyte')\n",
        "test_labels_path = os.path.join(mnist_path, 't10k-labels-idx1-ubyte')\n",
        "\n",
        "# Load data\n",
        "x_train_raw = load_mnist_images(train_images_path)\n",
        "y_train_raw = load_mnist_labels(train_labels_path)\n",
        "x_test_raw = load_mnist_images(test_images_path)\n",
        "y_test_raw = load_mnist_labels(test_labels_path)\n",
        "\n",
        "# Preprocess data\n",
        "# Normalize pixel values to [0, 1]\n",
        "x_train = x_train_raw / 255.0\n",
        "x_test = x_test_raw / 255.0\n",
        "\n",
        "# One-hot encode labels\n",
        "y_train = one_hot_encode(y_train_raw)\n",
        "y_test = one_hot_encode(y_test_raw)\n",
        "\n",
        "# Transpose data for the model (features, samples)\n",
        "x_train = x_train.T # Shape: (784, 60000)\n",
        "y_train = y_train.T # Shape: (10, 60000)\n",
        "x_test = x_test.T   # Shape: (784, 10000)\n",
        "y_test = y_test.T   # Shape: (10, 10000)\n",
        "\n",
        "# Split training data into training and validation sets (e.g., 90% train, 10% val)\n",
        "n_samples_total = x_train.shape[1]\n",
        "n_val_samples = int(n_samples_total * 0.1)\n",
        "n_train_samples = n_samples_total - n_val_samples\n",
        "\n",
        "val_indices = np.random.choice(n_samples_total, n_val_samples, replace=False)\n",
        "train_indices = np.setdiff1d(np.arange(n_samples_total), val_indices)\n",
        "\n",
        "x_val = x_train[:, val_indices]\n",
        "y_val = y_train[:, val_indices]\n",
        "x_train = x_train[:, train_indices]\n",
        "y_train = y_train[:, train_indices]\n",
        "\n",
        "print(f\"Training data shape: X={x_train.shape}, Y={y_train.shape}\")\n",
        "print(f\"Validation data shape: X={x_val.shape}, Y={y_val.shape}\")\n",
        "print(f\"Test data shape: X={x_test.shape}, Y={y_test.shape}\")\n",
        "\n",
        "# Define observation noise variance (adjust as needed)\n",
        "# This represents uncertainty in the one-hot labels or model fit\n",
        "var_v = 0.1 # Example value, can be tuned\n"
      ]
    },
    {
      "cell_type": "markdown",
      "metadata": {},
      "source": [
        "# TAGI - Implémentation\n"
      ]
    },
    {
      "cell_type": "markdown",
      "metadata": {},
      "source": [
        "## Définition des fonctions :\n"
      ]
    },
    {
      "cell_type": "markdown",
      "metadata": {},
      "source": [
        "### Initialisation des paramètres \n"
      ]
    },
    {
      "cell_type": "code",
      "execution_count": 4,
      "metadata": {},
      "outputs": [],
      "source": [
        "def initialize_params(layer_dims, seed = None):\n",
        "    '''\n",
        "    Initializes the weights of the neural network.\n",
        "    \n",
        "    Inputs :\n",
        "    layer_dims : list of integers, where the ith element is the number of neurons in the ith layer.\n",
        "    seed : int, random seed for reproducibility.\n",
        "    \n",
        "    Outputs :\n",
        "    parameters : dictionary containing the weights of the neural network.\n",
        "    '''\n",
        "    \n",
        "    if not all(isinstance(dim, int) for dim in layer_dims):\n",
        "        raise ValueError(\"All elements in layer_dims must be integers.\")\n",
        "    \n",
        "    if seed is not None:\n",
        "        np.random.seed(seed)\n",
        "    \n",
        "    parameters = {}\n",
        "    L = len(layer_dims) - 1\n",
        "    \n",
        "    for l in range(0, L):\n",
        "        \n",
        "        mu_w = np.random.normal(0, (np.sqrt(1/layer_dims[l])), (layer_dims[l+1], layer_dims[l]))\n",
        "        var_w = np.ones((layer_dims[l+1], layer_dims[l]))* 1 / (layer_dims[l])\n",
        "        \n",
        "        mu_b = np.random.normal(0, (np.sqrt(1/layer_dims[l])), (layer_dims[l+1], 1))\n",
        "        var_b = np.ones((layer_dims[l+1], 1)) * (1 / (layer_dims[l]))\n",
        "        \n",
        "        mu_theta = np.concatenate((mu_w, mu_b), axis=1)\n",
        "        var_theta = np.concatenate((var_w, var_b), axis=1)\n",
        "        parameters[f'theta_{l}'] = (mu_theta, var_theta)\n",
        "\n",
        "    return parameters\n"
      ]
    },
    {
      "cell_type": "markdown",
      "metadata": {},
      "source": [
        "### Feedforward (Generalized)\n"
      ]
    },
    {
      "cell_type": "code",
      "execution_count": 5,
      "metadata": {},
      "outputs": [],
      "source": [
        "def linear_forward(A_prev, theta_l, l):\n",
        "    \"\"\"\n",
        "    Implements the linear part of a layer's forward propagation for a batch.\n",
        "\n",
        "    Inputs:\n",
        "    A_prev : tuple (mu_a_prev, var_a_prev), activations from previous layer (l-1).\n",
        "             mu_a_prev shape: (n_neurons_prev, batch_size)\n",
        "             var_a_prev shape: (n_neurons_prev, batch_size)\n",
        "             For l=0, A_prev = (X_batch, 0), X_batch shape (n_features, batch_size).\n",
        "    theta_l: tuple (mu_theta, var_theta), parameters for current layer l.\n",
        "             mu_theta shape: (n_neurons, n_neurons_prev + 1)\n",
        "             var_theta shape: (n_neurons, n_neurons_prev + 1)\n",
        "    l      : int, current layer index.\n",
        "\n",
        "    Outputs:\n",
        "    Z_l    : tuple (mu_z, var_z, cov_z_theta), linear output of the layer.\n",
        "             mu_z shape: (n_neurons, batch_size)\n",
        "             var_z shape: (n_neurons, batch_size)\n",
        "             cov_z_theta shape: (n_neurons, n_neurons_prev + 1, batch_size) - Covariance for each sample\n",
        "    \"\"\"\n",
        "    mu_a_prev, var_a_prev = A_prev[0], A_prev[1] # (n_prev, B), (n_prev, B)\n",
        "    mu_theta, var_theta = theta_l # (n_curr, n_prev+1), (n_curr, n_prev+1)\n",
        "    mu_w, mu_b = mu_theta[:, :-1], mu_theta[:, -1].reshape(-1, 1) # (n_curr, n_prev), (n_curr, 1)\n",
        "    var_w, var_b = var_theta[:, :-1], var_theta[:, -1].reshape(-1, 1) # (n_curr, n_prev), (n_curr, 1)\n",
        "    \n",
        "    mu_z = mu_w @ mu_a_prev + mu_b # (n_curr, n_prev) @ (n_prev, B) + (n_curr, 1) -> (n_curr, B)\n",
        "    var_z = var_w @ var_a_prev + var_w @ (mu_a_prev**2) + (mu_w**2) @ var_a_prev + var_b\n",
        "\n",
        "    # Need to compute this per sample in the batch\n",
        "    batch_size = mu_a_prev.shape[1]\n",
        "    cov_z_w = np.einsum('ji,kj->kji', mu_a_prev, var_w) \n",
        "    cov_z_b = np.repeat(var_b[:, :, np.newaxis], batch_size, axis=2)\n",
        "    cov_z_theta = np.concatenate((cov_z_w, cov_z_b), axis=1)\n",
        "\n",
        "    return (mu_z, var_z, cov_z_theta)\n"
      ]
    },
    {
      "cell_type": "code",
      "execution_count": 6,
      "metadata": {},
      "outputs": [],
      "source": [
        "def activation_forward(Z_l, activation_type='relu'):\n",
        "    \"\"\"\n",
        "    Implements the activation function forward pass for a batch.\n",
        "\n",
        "    Inputs:\n",
        "    Z_l : tuple (mu_z, var_z, cov_z_theta), linear output of the layer.\n",
        "          mu_z shape: (n_neurons, batch_size)\n",
        "          var_z shape: (n_neurons, batch_size)\n",
        "    activation_type: string, \"relu\" or \"linear\".\n",
        "\n",
        "    Outputs:\n",
        "    A_l : tuple (mu_a, var_a, T), activated output. T is the Jacobian dA/dZ.\n",
        "          mu_a shape: (n_neurons, batch_size)\n",
        "          var_a shape: (n_neurons, batch_size)\n",
        "          T shape: (n_neurons, batch_size)\n",
        "    \"\"\"\n",
        "    mu_z, var_z, _ = Z_l # (n, B), (n, B)\n",
        "\n",
        "    if activation_type == 'relu':\n",
        "        # Heaviside step function T = 1 if mu_z > 0 else 0\n",
        "        T = np.where(mu_z > 0, 1.0, 0.0) # (n, B)\n",
        "        mu_a = mu_z * T # (n, B)\n",
        "        # Approximation: Var(a) approx Var(z) * T^2 (since T is 0 or 1, T^2=T)\n",
        "        var_a = var_z * T # (n, B)\n",
        "        return (mu_a, var_a, T)\n",
        "    elif activation_type == 'linear':\n",
        "        T = np.ones_like(mu_z)  # Linear activation, T = 1 (n, B)\n",
        "        # For linear activation, a = z\n",
        "        return (mu_z, var_z, T)\n",
        "    else:\n",
        "        raise ValueError(\"Unsupported activation type\")\n"
      ]
    },
    {
      "cell_type": "code",
      "execution_count": 7,
      "metadata": {},
      "outputs": [],
      "source": [
        "def model_forward(X_batch, parameters, layer_dims):\n",
        "    \"\"\"\n",
        "    Implements the full forward pass for the network for a batch.\n",
        "\n",
        "    Inputs:\n",
        "    X_batch    : numpy array, input data batch (shape: n_features, batch_size).\n",
        "    parameters : dict, contains 'theta_l' for each layer l.\n",
        "    layer_dims : list, dimensions of each layer [n_features, n_h1, ..., n_output].\n",
        "\n",
        "    Outputs:\n",
        "    Z_out      : tuple (mu_z, var_z, cov_z_theta), output of the final linear layer.\n",
        "                 Shapes: (n_output, B), (n_output, B), (n_output, n_prev+1, B)\n",
        "    caches     : list of dicts, storing intermediate values for backward pass.\n",
        "                 Each dict contains {'Z': Z_l, 'A_prev': A_prev, 'theta': theta_l, 'A': A_l}\n",
        "    \"\"\"\n",
        "    caches = []\n",
        "    L = len(layer_dims) - 1 # Number of layers with parameters (0 to L-1)\n",
        "\n",
        "    # Initial activation is the input batch X_batch\n",
        "    # mu_a = X_batch, var_a = 0 (assuming input data is deterministic)\n",
        "    A_prev = (X_batch, np.zeros_like(X_batch)) # (n_features, B), (n_features, B)\n",
        "\n",
        "    # Iterate through hidden layers (l=0 to L-2)\n",
        "    for l in range(L - 1):\n",
        "        theta_l = parameters[f'theta_{l}']\n",
        "        Z_l = linear_forward(A_prev, theta_l, l)\n",
        "        A_l = activation_forward(Z_l, activation_type='relu')\n",
        "        caches.append({'Z': Z_l, 'A_prev': A_prev, 'theta': theta_l, 'A': A_l})\n",
        "        A_prev = A_l # Output of this layer is input to the next (mu_a, var_a, T)\n",
        "\n",
        "    # Output layer (l = L-1) - Linear activation\n",
        "    theta_out = parameters[f'theta_{L-1}']\n",
        "    Z_out = linear_forward(A_prev, theta_out, L-1)\n",
        "    # Use linear activation for the final output in regression\n",
        "    A_out = activation_forward(Z_out, activation_type='linear')\n",
        "    caches.append({'Z': Z_out, 'A_prev': A_prev, 'theta': theta_out, 'A': A_out})\n",
        "\n",
        "    return Z_out, caches\n"
      ]
    },
    {
      "cell_type": "markdown",
      "metadata": {},
      "source": [
        "### Modèle d'observation\n"
      ]
    },
    {
      "cell_type": "code",
      "execution_count": 8,
      "metadata": {},
      "outputs": [],
      "source": [
        "def obs_model(Z_out, var_v):\n",
        "    \"\"\"\n",
        "    Observation model for a batch.\n",
        "    Inputs:\n",
        "    Z_out: tuple (mu_z, var_z, _), output of the final linear layer for the batch.\n",
        "           mu_z shape: (n_output, batch_size)\n",
        "           var_z shape: (n_output, batch_size)\n",
        "    var_v: float, observation noise variance (assumed constant for all samples).\n",
        "    Outputs:\n",
        "    Y    : tuple (mu_y, var_y), predicted output distribution for the batch.\n",
        "           mu_y shape: (n_output, batch_size)\n",
        "           var_y shape: (n_output, batch_size)\n",
        "    \"\"\"\n",
        "    mu_z, var_z, _ = Z_out # (n_out, B), (n_out, B)\n",
        "    mu_y = mu_z # (n_out, B)\n",
        "    var_y = var_z + var_v # (n_out, B)\n",
        "    \n",
        "    return (mu_y, var_y)\n"
      ]
    },
    {
      "cell_type": "code",
      "execution_count": 9,
      "metadata": {},
      "outputs": [],
      "source": [
        "def log_likelihood(Y, y_batch):\n",
        "    \"\"\"\n",
        "    Calculates the total log-likelihood for a batch.\n",
        "    Inputs:\n",
        "    Y       : tuple (mu_y, var_y), predicted output distribution for the batch.\n",
        "              mu_y shape: (n_output, batch_size)\n",
        "              var_y shape: (n_output, batch_size)\n",
        "    y_batch : numpy array, true labels for the batch.\n",
        "              shape: (n_output, batch_size)\n",
        "    Outputs:\n",
        "    total_log_ll: float, sum of log-likelihoods over the batch.\n",
        "    \"\"\"\n",
        "    mu_y, var_y = Y # (n_out, B), (n_out, B)\n",
        "    # Ensure shapes match\n",
        "    if mu_y.shape != y_batch.shape:\n",
        "         raise ValueError(f\"Shape mismatch: mu_y {mu_y.shape}, y_batch {y_batch.shape}\")\n",
        "         \n",
        "    # Add small epsilon for numerical stability\n",
        "    epsilon = 1e-8\n",
        "    var_y_stable = var_y + epsilon\n",
        "    \n",
        "    # Calculate log-likelihood for each sample in the batch\n",
        "    log_ll_samples = -0.5 * np.log(2 * np.pi) - 0.5 * np.log(var_y_stable) - 0.5 * (y_batch - mu_y)**2 / var_y_stable\n",
        "    # Sum over the batch and output dimensions (if n_output > 1)\n",
        "    total_log_ll = np.sum(log_ll_samples)\n",
        "    \n",
        "    return total_log_ll\n"
      ]
    },
    {
      "cell_type": "code",
      "execution_count": 10,
      "metadata": {},
      "outputs": [],
      "source": [
        "def update_output(Y, Z_out, y_batch):\n",
        "    \"\"\"\n",
        "    Updates the output layer's state (Z_out) based on the batch observation y_batch.\n",
        "    Inputs:\n",
        "    Y       : tuple (mu_y, var_y), predicted output distribution for the batch.\n",
        "              Shapes: (n_output, B)\n",
        "    Z_out   : tuple (mu_z, var_z, cov_z_theta), original linear output for the batch.\n",
        "              Shapes: (n_output, B), (n_output, B), (n_output, n_prev+1, B)\n",
        "    y_batch : numpy array, true labels for the batch.\n",
        "              shape: (n_output, B)\n",
        "    Outputs:\n",
        "    Z_out_y : tuple (mu_z_y, var_z_y), updated linear output state for the batch.\n",
        "              Shapes: (n_output, B), (n_output, B)\n",
        "    \"\"\"\n",
        "    mu_y, var_y = Y # (n_out, B), (n_out, B)\n",
        "    mu_z, var_z, _ = Z_out # (n_out, B), (n_out, B)\n",
        "    \n",
        "    # Ensure shapes match\n",
        "    if mu_y.shape != y_batch.shape or mu_z.shape != y_batch.shape:\n",
        "         raise ValueError(\"Shape mismatch during output update\")\n",
        "\n",
        "    # Add small epsilon for numerical stability\n",
        "    epsilon = 1e-8\n",
        "    var_y_stable = var_y + epsilon\n",
        "\n",
        "    # Kalman gain like term K = Var(z) / Var(y)\n",
        "    K = var_z / var_y_stable # (n_out, B)\n",
        "    \n",
        "    # Update mean: mu_z_y = mu_z + K * (y - mu_y)\n",
        "    mu_z_y = mu_z + K * (y_batch - mu_y) # (n_out, B)\n",
        "    \n",
        "    # Update variance: var_z_y = var_z - K * Var(z) = Var(z) * (1 - K)\n",
        "    var_z_y = var_z * (1 - K) # (n_out, B)\n",
        "    \n",
        "    # Ensure variance remains non-negative\n",
        "    var_z_y = np.maximum(epsilon, var_z_y)\n",
        "\n",
        "    return (mu_z_y, var_z_y)\n"
      ]
    },
    {
      "cell_type": "markdown",
      "metadata": {},
      "source": [
        "### Inférence (Generalized Backward Pass)\n"
      ]
    },
    {
      "cell_type": "code",
      "execution_count": 11,
      "metadata": {},
      "outputs": [],
      "source": [
        "def update_parameters(Z_l, Z_l_y, theta_l):\n",
        "    \"\"\"\n",
        "    Updates the parameters (theta_l) of layer l based on the updated batch state Z_l_y.\n",
        "    Averages the update across the batch dimension.\n",
        "\n",
        "    Inputs:\n",
        "    Z_l     : tuple (mu_z, var_z, cov_z_theta), original linear output for the batch.\n",
        "              Shapes: (n_curr, B), (n_curr, B), (n_curr, n_prev+1, B)\n",
        "    Z_l_y   : tuple (mu_z_y, var_z_y), updated linear output state for the batch.\n",
        "              Shapes: (n_curr, B), (n_curr, B)\n",
        "    theta_l : tuple (mu_theta, var_theta), original parameters of layer l.\n",
        "              Shapes: (n_curr, n_prev+1), (n_curr, n_prev+1)\n",
        "\n",
        "    Outputs:\n",
        "    theta_l_y: tuple (mu_theta_y, var_theta_y), updated parameters (averaged over batch).\n",
        "               Shapes: (n_curr, n_prev+1), (n_curr, n_prev+1)\n",
        "    \"\"\"\n",
        "    mu_z, var_z, cov_z_theta = Z_l # (n_curr, B), (n_curr, B), (n_curr, n_prev+1, B)\n",
        "    mu_z_y, var_z_y = Z_l_y       # (n_curr, B), (n_curr, B)\n",
        "    mu_theta, var_theta = theta_l # (n_curr, n_prev+1), (n_curr, n_prev+1)\n",
        "\n",
        "    epsilon = 1e-8 \n",
        "    var_z_stable = var_z + epsilon # (n_curr, B)\n",
        "    J_theta = cov_z_theta / var_z_stable[:, np.newaxis, :] \n",
        "\n",
        "    # Calculate state changes for each sample\n",
        "    delta_mu_z = mu_z_y - mu_z   # (n_curr, B)\n",
        "    delta_var_z = var_z_y - var_z # (n_curr, B)\n",
        "\n",
        "    # Use einsum for clarity and potential efficiency\n",
        "    delta_mu_theta = np.einsum('kib,kb->kib', J_theta, delta_mu_z)\n",
        "    delta_var_theta = np.einsum('kib,kb->kib', J_theta**2, delta_var_z)\n",
        "\n",
        "\n",
        "    # Average updates over the batch dimension (axis=2)\n",
        "    avg_delta_mu_theta = np.mean(delta_mu_theta, axis=2) # (n_curr, n_prev+1)\n",
        "    avg_delta_var_theta = np.mean(delta_var_theta, axis=2) # (n_curr, n_prev+1)\n",
        "\n",
        "    # Update parameters using averaged deltas\n",
        "    mu_theta_y = mu_theta + avg_delta_mu_theta\n",
        "    # Ensure variance doesn't become negative\n",
        "    var_theta_y = np.maximum(epsilon, var_theta + avg_delta_var_theta) \n",
        "\n",
        "    return (mu_theta_y, var_theta_y)\n"
      ]
    },
    {
      "cell_type": "code",
      "execution_count": 12,
      "metadata": {},
      "outputs": [],
      "source": [
        "def update_hidden_state(Z_l, Z_l_plus_1, Z_l_plus_1_y, A_l, theta_l_plus_1):\n",
        "    \"\"\"\n",
        "    Updates the hidden state Z_l based on the updated batch state of the next layer Z_{l+1}_y.\n",
        "\n",
        "    Inputs:\n",
        "    Z_l           : tuple (mu_z, var_z, _), original linear output of layer l for the batch.\n",
        "                    Shapes: (n_l, B), (n_l, B)\n",
        "    Z_l_plus_1    : tuple (mu_z_next, var_z_next, _), original linear output of layer l+1 for the batch.\n",
        "                    Shapes: (n_l+1, B), (n_l+1, B)\n",
        "    Z_l_plus_1_y  : tuple (mu_z_next_y, var_z_next_y), updated linear output of layer l+1 for the batch.\n",
        "                    Shapes: (n_l+1, B), (n_l+1, B)\n",
        "    A_l           : tuple (mu_a, var_a, T), activation output of layer l for the batch. T is dA/dZ.\n",
        "                    Shapes: (n_l, B), (n_l, B), (n_l, B)\n",
        "    theta_l_plus_1: tuple (mu_theta_next, var_theta_next), original parameters of layer l+1.\n",
        "                    Shapes: (n_l+1, n_l+1), (n_l+1, n_l+1)\n",
        "\n",
        "    Outputs:\n",
        "    Z_l_y         : tuple (mu_z_y, var_z_y), updated linear output state of layer l for the batch.\n",
        "                    Shapes: (n_l, B), (n_l, B)\n",
        "    \"\"\"\n",
        "    mu_z, var_z, _ = Z_l                 # (n_l, B), (n_l, B)\n",
        "    mu_z_next, var_z_next, _ = Z_l_plus_1 # (n_l+1, B), (n_l+1, B)\n",
        "    mu_z_next_y, var_z_next_y = Z_l_plus_1_y # (n_l+1, B), (n_l+1, B)\n",
        "    _, _, T = A_l                        # (n_l, B) - Jacobian dA/dZ for layer l\n",
        "\n",
        "    mu_theta_next, _ = theta_l_plus_1    # (n_l+1, n_l+1)\n",
        "    mu_w_next = mu_theta_next[:, :-1]    # (n_l+1, n_l) - Weights connecting l to l+1\n",
        "\n",
        "    epsilon = 1e-8\n",
        "    var_z_next_stable = var_z_next + epsilon # (n_l+1, B)\n",
        "    cov_z_next_z = np.einsum('kj,jb,jb->kjb', mu_w_next, var_z, T)# Shape: (n_l+1, n_l, B)\n",
        "    J_z = cov_z_next_z / var_z_next_stable[:, np.newaxis, :]# Shape: (n_l+1, n_l, B) / (n_l+1, 1, B) -> (n_l+1, n_l, B)\n",
        "\n",
        "    # Calculate state changes in the next layer\n",
        "    delta_mu_z_next = mu_z_next_y - mu_z_next # (n_l+1, B)\n",
        "    delta_var_z_next = var_z_next_y - var_z_next # (n_l+1, B)\n",
        "    delta_mu_z = np.einsum('kji,ki->ji', J_z, delta_mu_z_next)   # (n_l, B)\n",
        "    delta_var_z = np.einsum('kji,ki->ji', J_z**2, delta_var_z_next) # (n_l, B)\n",
        "\n",
        "    # Update state Z_l\n",
        "    mu_z_y = mu_z + delta_mu_z\n",
        "    var_z_y = var_z + delta_var_z\n",
        "    \n",
        "    return (mu_z_y, np.maximum(epsilon, var_z_y))\n"
      ]
    },
    {
      "cell_type": "code",
      "execution_count": 13,
      "metadata": {},
      "outputs": [],
      "source": [
        "def model_backward(Y, Z_out, y_batch, caches, parameters, layer_dims):\n",
        "    \"\"\"\n",
        "    Implements the full backward pass (inference/update) for the network for a batch.\n",
        "\n",
        "    Inputs:\n",
        "    Y          : tuple (mu_y, var_y), batch output of observation model. Shapes (n_out, B)\n",
        "    Z_out      : tuple (mu_z, var_z, cov), batch output of the final linear layer.\n",
        "                 Shapes: (n_out, B), (n_out, B), (n_out, n_prev+1, B)\n",
        "    y_batch    : numpy array, true labels for the batch. Shape (n_out, B)\n",
        "    caches     : list of dicts from forward pass (containing batch results).\n",
        "    parameters : dict, current parameters 'theta_l'.\n",
        "    layer_dims : list, dimensions of each layer.\n",
        "\n",
        "    Outputs:\n",
        "    updated_params: dict, containing batch-updated 'theta_l' for each layer.\n",
        "    # Z_updates     : dict, containing updated 'Z_l_y' for each layer state (optional).\n",
        "    \"\"\"\n",
        "    updated_params = {}\n",
        "    L = len(layer_dims) - 1 # Number of layers with parameters\n",
        "\n",
        "    # 1. Update output state Z_out based on batch observation y_batch\n",
        "    Z_out_y = update_output(Y, Z_out, y_batch) # Z_out_y shapes: (n_out, B)\n",
        "    Z_next_y = Z_out_y # This is the starting point for backpropagation (n_out, B)\n",
        "\n",
        "    # 2. Update parameters of the output layer (l = L-1)\n",
        "    cache_out = caches[L-1] # Cache for the output layer (contains batch Z, A_prev, theta, A)\n",
        "    # theta_l = cache_out['theta'] -> (mu_theta, var_theta) shapes (n_out, n_L-1+1)\n",
        "    theta_out_y = update_parameters(cache_out['Z'], Z_out_y, cache_out['theta'])\n",
        "    updated_params[f'theta_{L-1}'] = theta_out_y\n",
        "\n",
        "    # 3. Iterate backwards through hidden layers (l = L-2 down to 0)\n",
        "    for l in reversed(range(L - 1)):\n",
        "        # Get states and parameters for current (l) and next (l+1) layers from caches\n",
        "        cache_l = caches[l]\n",
        "        cache_l_plus_1 = caches[l+1]\n",
        "        \n",
        "        Z_l = cache_l['Z']             # (mu_z, var_z, cov), shapes (n_l, B), (n_l, B), (n_l, n_l-1+1, B)\n",
        "        A_l = cache_l['A']             # (mu_a, var_a, T), shapes (n_l, B), (n_l, B), (n_l, B)\n",
        "        theta_l = cache_l['theta']     # (mu_theta, var_theta), shapes (n_l, n_l-1+1)\n",
        "        \n",
        "        Z_l_plus_1 = cache_l_plus_1['Z'] # (mu_z_next, var_z_next, _), shapes (n_l+1, B), (n_l+1, B)\n",
        "        \n",
        "        # Use the *original* parameters of the next layer (l+1) for Jacobian calculation\n",
        "        # These parameters were used in the forward pass to generate Z_l_plus_1\n",
        "        theta_l_plus_1 = parameters[f'theta_{l+1}'] # Shapes (n_l+1, n_l+1)\n",
        "\n",
        "        # Update hidden state Z_l using Z_{l+1}_y (which is Z_next_y)\n",
        "        # Z_next_y has shape (n_l+1, B)\n",
        "        Z_l_y = update_hidden_state(Z_l, Z_l_plus_1, Z_next_y, A_l, theta_l_plus_1) # Z_l_y shapes (n_l, B)\n",
        "\n",
        "        # Update parameters theta_l using the updated state Z_l_y\n",
        "        theta_l_y = update_parameters(Z_l, Z_l_y, theta_l)\n",
        "        updated_params[f'theta_{l}'] = theta_l_y\n",
        "\n",
        "        # Pass the updated state Z_l_y backward for the next iteration\n",
        "        Z_next_y = Z_l_y # Shape (n_l, B)\n",
        "        \n",
        "    return updated_params#, Z_updates\n"
      ]
    },
    {
      "cell_type": "markdown",
      "metadata": {},
      "source": [
        "### Entrainement\n"
      ]
    },
    {
      "cell_type": "code",
      "execution_count": 14,
      "metadata": {},
      "outputs": [
        {
          "name": "stderr",
          "output_type": "stream",
          "text": [
            "Training Epochs:   5%|▌         | 1/20 [00:37<12:00, 37.93s/it]"
          ]
        },
        {
          "name": "stdout",
          "output_type": "stream",
          "text": [
            "Epoch 0: New best validation accuracy: 0.7943\n"
          ]
        },
        {
          "name": "stderr",
          "output_type": "stream",
          "text": [
            "Training Epochs:  10%|█         | 2/20 [01:14<11:05, 36.95s/it]"
          ]
        },
        {
          "name": "stdout",
          "output_type": "stream",
          "text": [
            "Epoch 1: New best validation accuracy: 0.8565\n"
          ]
        },
        {
          "name": "stderr",
          "output_type": "stream",
          "text": [
            "Training Epochs:  15%|█▌        | 3/20 [01:50<10:21, 36.56s/it]"
          ]
        },
        {
          "name": "stdout",
          "output_type": "stream",
          "text": [
            "Epoch 2: New best validation accuracy: 0.8790\n"
          ]
        },
        {
          "name": "stderr",
          "output_type": "stream",
          "text": [
            "Training Epochs:  20%|██        | 4/20 [02:26<09:41, 36.34s/it]"
          ]
        },
        {
          "name": "stdout",
          "output_type": "stream",
          "text": [
            "Epoch 3: New best validation accuracy: 0.8933\n"
          ]
        },
        {
          "name": "stderr",
          "output_type": "stream",
          "text": [
            "Training Epochs:  25%|██▌       | 5/20 [03:02<09:04, 36.29s/it]"
          ]
        },
        {
          "name": "stdout",
          "output_type": "stream",
          "text": [
            "Epoch 4: New best validation accuracy: 0.9010\n"
          ]
        },
        {
          "name": "stderr",
          "output_type": "stream",
          "text": [
            "Training Epochs:  30%|███       | 6/20 [03:38<08:27, 36.23s/it]"
          ]
        },
        {
          "name": "stdout",
          "output_type": "stream",
          "text": [
            "Epoch 5: New best validation accuracy: 0.9090\n"
          ]
        },
        {
          "name": "stderr",
          "output_type": "stream",
          "text": [
            "Training Epochs:  35%|███▌      | 7/20 [04:15<07:52, 36.32s/it]"
          ]
        },
        {
          "name": "stdout",
          "output_type": "stream",
          "text": [
            "Epoch 6: New best validation accuracy: 0.9140\n"
          ]
        },
        {
          "name": "stderr",
          "output_type": "stream",
          "text": [
            "Training Epochs:  40%|████      | 8/20 [04:49<07:08, 35.67s/it]"
          ]
        },
        {
          "name": "stdout",
          "output_type": "stream",
          "text": [
            "Epoch 7: New best validation accuracy: 0.9172\n"
          ]
        },
        {
          "name": "stderr",
          "output_type": "stream",
          "text": [
            "Training Epochs:  45%|████▌     | 9/20 [05:23<06:28, 35.28s/it]"
          ]
        },
        {
          "name": "stdout",
          "output_type": "stream",
          "text": [
            "Epoch 8: New best validation accuracy: 0.9200\n"
          ]
        },
        {
          "name": "stderr",
          "output_type": "stream",
          "text": [
            "Training Epochs:  50%|█████     | 10/20 [05:57<05:48, 34.87s/it]"
          ]
        },
        {
          "name": "stdout",
          "output_type": "stream",
          "text": [
            "Epoch 9: New best validation accuracy: 0.9213\n"
          ]
        },
        {
          "name": "stderr",
          "output_type": "stream",
          "text": [
            "Training Epochs:  55%|█████▌    | 11/20 [06:31<05:11, 34.57s/it]"
          ]
        },
        {
          "name": "stdout",
          "output_type": "stream",
          "text": [
            "Epoch 10: New best validation accuracy: 0.9237\n"
          ]
        },
        {
          "name": "stderr",
          "output_type": "stream",
          "text": [
            "Training Epochs:  60%|██████    | 12/20 [07:05<04:35, 34.39s/it]"
          ]
        },
        {
          "name": "stdout",
          "output_type": "stream",
          "text": [
            "Epoch 11: New best validation accuracy: 0.9255\n"
          ]
        },
        {
          "name": "stderr",
          "output_type": "stream",
          "text": [
            "Training Epochs:  65%|██████▌   | 13/20 [07:39<03:59, 34.28s/it]"
          ]
        },
        {
          "name": "stdout",
          "output_type": "stream",
          "text": [
            "Epoch 12: New best validation accuracy: 0.9278\n"
          ]
        },
        {
          "name": "stderr",
          "output_type": "stream",
          "text": [
            "Training Epochs:  70%|███████   | 14/20 [08:13<03:25, 34.21s/it]"
          ]
        },
        {
          "name": "stdout",
          "output_type": "stream",
          "text": [
            "Epoch 13: New best validation accuracy: 0.9323\n"
          ]
        },
        {
          "name": "stderr",
          "output_type": "stream",
          "text": [
            "Training Epochs:  80%|████████  | 16/20 [09:21<02:16, 34.18s/it]"
          ]
        },
        {
          "name": "stdout",
          "output_type": "stream",
          "text": [
            "Epoch 15: New best validation accuracy: 0.9348\n"
          ]
        },
        {
          "name": "stderr",
          "output_type": "stream",
          "text": [
            "Training Epochs:  85%|████████▌ | 17/20 [09:56<01:42, 34.26s/it]"
          ]
        },
        {
          "name": "stdout",
          "output_type": "stream",
          "text": [
            "Epoch 16: New best validation accuracy: 0.9360\n"
          ]
        },
        {
          "name": "stderr",
          "output_type": "stream",
          "text": [
            "Training Epochs:  90%|█████████ | 18/20 [10:30<01:08, 34.20s/it]"
          ]
        },
        {
          "name": "stdout",
          "output_type": "stream",
          "text": [
            "Epoch 17: New best validation accuracy: 0.9368\n"
          ]
        },
        {
          "name": "stderr",
          "output_type": "stream",
          "text": [
            "Training Epochs:  95%|█████████▌| 19/20 [11:04<00:34, 34.11s/it]"
          ]
        },
        {
          "name": "stdout",
          "output_type": "stream",
          "text": [
            "Epoch 18: New best validation accuracy: 0.9387\n"
          ]
        },
        {
          "name": "stderr",
          "output_type": "stream",
          "text": [
            "Training Epochs: 100%|██████████| 20/20 [11:38<00:00, 34.92s/it]"
          ]
        },
        {
          "name": "stdout",
          "output_type": "stream",
          "text": [
            "Epoch 19: New best validation accuracy: 0.9405\n",
            "Best validation accuracy (0.9405) at epoch: 19\n"
          ]
        },
        {
          "name": "stderr",
          "output_type": "stream",
          "text": [
            "\n"
          ]
        }
      ],
      "source": [
        "# define the architecture of the neural network for MNIST\n",
        "batch_size = 100 # Define batch size (can be adjusted)\n",
        "n_features = x_train.shape[0] # 784\n",
        "n_classes = y_train.shape[0]  # 10\n",
        "layer_dims = [n_features, 100, 100, n_classes] # Example: 784 -> 100 -> 100 -> 10\n",
        "parameters = initialize_params(layer_dims, seed=42)\n",
        "best_params = parameters.copy()\n",
        "\n",
        "# define training hyperparameters\n",
        "n_epochs = 20 # Adjust as needed (MNIST might need fewer epochs than regression)\n",
        "log_ll_train = []\n",
        "log_ll_val = []\n",
        "val_accuracy_hist = [] # Store validation accuracy\n",
        "log_ref = -np.inf # Initialize with negative infinity for log-likelihood comparison\n",
        "best_val_accuracy = -1.0 # Initialize for accuracy comparison\n",
        "\n",
        "# Data is already in the correct shape (features, samples)\n",
        "x_train_batch = x_train\n",
        "y_train_batch = y_train\n",
        "x_val_batch = x_val\n",
        "y_val_batch = y_val\n",
        "x_test_batch = x_test\n",
        "y_test_batch = y_test # Ground truth for test accuracy\n",
        "\n",
        "n_samples_train = x_train_batch.shape[1]\n",
        "\n",
        "# train the model\n",
        "for epoch in tqdm(range(n_epochs), desc=\"Training Epochs\"):\n",
        "    epoch_log_likelihood_train = 0\n",
        "    \n",
        "    # Shuffle training data each epoch\n",
        "    indices = np.random.permutation(n_samples_train)\n",
        "    x_train_shuffled = x_train_batch[:, indices]\n",
        "    y_train_shuffled = y_train_batch[:, indices]\n",
        "    \n",
        "    # Iterate over mini-batches\n",
        "    for i in range(0, n_samples_train, batch_size):\n",
        "        # Get mini-batch\n",
        "        end_idx = min(i + batch_size, n_samples_train)\n",
        "        x_batch_i = x_train_shuffled[:, i:end_idx]\n",
        "        y_batch_i = y_train_shuffled[:, i:end_idx]\n",
        "        \n",
        "        # Forward pass for the batch\n",
        "        # Ensure x_batch_i has shape (1, current_batch_size)\n",
        "        if x_batch_i.ndim == 1:\n",
        "             x_batch_i = x_batch_i.reshape(1, -1) # Reshape if it became 1D\n",
        "\n",
        "        Z_out, caches = model_forward(x_batch_i, parameters, layer_dims)\n",
        "        # TODO : Add probabilistic entmax activation function here if needed\n",
        "        # Observation model for the batch\n",
        "        Y = obs_model(Z_out, var_v) # Use fixed observation noise var_v\n",
        "\n",
        "        # Calculate log likelihood for the batch\n",
        "        batch_log_likelihood = log_likelihood(Y, y_batch_i) # y_batch_i shape (n_classes, B)\n",
        "\n",
        "        # TODO : Add probabilistic entmax activation function here \n",
        "        # Backward pass (Inference/Update) for the batch\n",
        "        # Now uses the batch-aware backward functions\n",
        "        updated_params = model_backward(Y, Z_out, y_batch_i, caches, parameters, layer_dims)\n",
        "        \n",
        "        # Update parameters using the batch updates\n",
        "        parameters.update(updated_params) \n",
        "        \n",
        "        # Accumulate log likelihood for the epoch\n",
        "        epoch_log_likelihood_train += batch_log_likelihood # Summing log-likelihoods is correct\n",
        "\n",
        "    # Average log likelihood for the epoch\n",
        "    log_ll_train.append(epoch_log_likelihood_train / n_samples_train)\n",
        "\n",
        "    # Evaluate the model on the validation data (using batches)\n",
        "    total_log_likelihood_val = 0\n",
        "    all_val_preds = []\n",
        "    all_val_true = []\n",
        "    n_samples_val = x_val_batch.shape[1]\n",
        "\n",
        "    for i in range(0, n_samples_val, batch_size):\n",
        "        end_idx = min(i + batch_size, n_samples_val)\n",
        "        x_val_batch_i = x_val_batch[:, i:end_idx]\n",
        "        y_val_batch_i = y_val_batch[:, i:end_idx] # One-hot encoded labels\n",
        "\n",
        "        if x_val_batch_i.ndim == 1:\n",
        "            x_val_batch_i = x_val_batch_i.reshape(n_features, -1)\n",
        "        if y_val_batch_i.ndim == 1:\n",
        "            y_val_batch_i = y_val_batch_i.reshape(n_classes, -1)\n",
        "\n",
        "        # Forward pass for validation batch\n",
        "        Z_out_val, _ = model_forward(x_val_batch_i, parameters, layer_dims)\n",
        "        # TODO : Add probabilistic entmax activation function here if needed\n",
        "        Y_val = obs_model(Z_out_val, var_v) # (mu_y, var_y) shapes (n_classes, B)\n",
        "\n",
        "        # Calculate batch log likelihood\n",
        "        batch_log_ll_val = log_likelihood(Y_val, y_val_batch_i)\n",
        "        total_log_likelihood_val += batch_log_ll_val\n",
        "\n",
        "        # Get predictions (class index) from logits (mu_y)\n",
        "        mu_y_val, _ = Y_val\n",
        "        batch_preds = np.argmax(mu_y_val, axis=0) # Get class index with highest logit\n",
        "        batch_true = np.argmax(y_val_batch_i, axis=0) # Get true class index from one-hot\n",
        "\n",
        "        all_val_preds.extend(batch_preds)\n",
        "        all_val_true.extend(batch_true)\n",
        "\n",
        "    # Average validation log likelihood\n",
        "    avg_log_ll_val = total_log_likelihood_val / n_samples_val\n",
        "    log_ll_val.append(avg_log_ll_val)\n",
        "\n",
        "    # Calculate validation accuracy\n",
        "    val_accuracy = accuracy_score(all_val_true, all_val_preds)\n",
        "    val_accuracy_hist.append(val_accuracy)\n",
        "\n",
        "    # Check for best parameters based on validation accuracy\n",
        "    if val_accuracy > best_val_accuracy:\n",
        "        best_val_accuracy = val_accuracy\n",
        "        best_params = parameters.copy() # Store deep copy based on accuracy\n",
        "        best_epoch_idx = epoch\n",
        "        print(f\"Epoch {epoch}: New best validation accuracy: {best_val_accuracy:.4f}\")\n",
        "    # Optional: Also track best log-likelihood if needed\n",
        "    # if avg_log_ll_val > log_ref:\n",
        "    #     log_ref = avg_log_ll_val\n",
        "    #     # Potentially store params based on log-likelihood too\n",
        "\n",
        "print(f'Best validation accuracy ({best_val_accuracy:.4f}) at epoch: {best_epoch_idx}')\n",
        "\n",
        "# Use the best parameters found during validation (based on accuracy)\n",
        "parameters = best_params\n"
      ]
    },
    {
      "cell_type": "code",
      "execution_count": 18,
      "metadata": {},
      "outputs": [
        {
          "data": {
            "image/png": "[encoded data removed]",
            "text/plain": [
              "<Figure size 1000x600 with 2 Axes>"
            ]
          },
          "metadata": {},
          "output_type": "display_data"
        }
      ],
      "source": [
        "# Plot Log-Likelihood and Validation Accuracy\n",
        "fig, ax1 = plt.subplots(figsize=(10, 6))\n",
        "plt.rcParams.update({'font.size': 14})\n",
        "\n",
        "color = 'tab:blue'\n",
        "ax1.set_xlabel('Epochs')\n",
        "ax1.set_ylabel('Log-Likelihood', color=color)\n",
        "ax1.plot(log_ll_train, label='Training Log-Likelihood', color=color, linestyle='-')\n",
        "ax1.plot(log_ll_val, label='Validation Log-Likelihood', color=color, linestyle='--')\n",
        "ax1.tick_params(axis='y', labelcolor=color)\n",
        "ax1.legend(loc='lower right')\n",
        "ax1.grid(True, linestyle=':', alpha=0.7)\n",
        "\n",
        "ax2 = ax1.twinx()  # instantiate a second axes that shares the same x-axis\n",
        "color = 'tab:red'\n",
        "ax2.set_ylabel('Validation Accuracy', color=color)\n",
        "ax2.plot(val_accuracy_hist, label='Validation Accuracy', color=color, linestyle='-')\n",
        "ax2.tick_params(axis='y', labelcolor=color)\n",
        "ax2.legend(loc='lower left')\n",
        "\n",
        "# Vertical line for best epoch based on accuracy\n",
        "ax1.axvline(best_epoch_idx, color='grey', linestyle=':', label=f'Best Epoch (Acc: {best_val_accuracy:.4f})')\n",
        "ax1.legend(loc='lower right') # Combine legends slightly better\n",
        "\n",
        "plt.title('Training Log-Likelihood and Validation Accuracy')\n",
        "plt.xticks(np.arange(0, n_epochs, 2)) # Adjust ticks if needed\n",
        "fig.tight_layout() # otherwise the right y-label is slightly clipped\n",
        "plt.show()\n"
      ]
    },
    {
      "cell_type": "markdown",
      "metadata": {},
      "source": [
        "## Évaluation sur l'ensemble de test\n"
      ]
    },
    {
      "cell_type": "code",
      "execution_count": 16,
      "metadata": {},
      "outputs": [
        {
          "name": "stdout",
          "output_type": "stream",
          "text": [
            "\n",
            "--- Test Set Evaluation ---\n",
            "Average Log-Likelihood on Test Set: 0.6374\n",
            "Accuracy on Test Set: 0.9410 (9410 / 10000)\n"
          ]
        }
      ],
      "source": [
        "# Evaluate the best model on the test data (using batches)\n",
        "all_test_preds = []\n",
        "all_test_true = []\n",
        "test_log_likelihood = 0\n",
        "n_samples_test = x_test_batch.shape[1]\n",
        "\n",
        "for i in range(0, n_samples_test, batch_size):\n",
        "    end_idx = min(i + batch_size, n_samples_test)\n",
        "    x_test_batch_i = x_test_batch[:, i:end_idx]\n",
        "    y_test_batch_i = y_test_batch[:, i:end_idx] # Ground truth one-hot for likelihood\n",
        "\n",
        "    if x_test_batch_i.ndim == 1:\n",
        "        x_test_batch_i = x_test_batch_i.reshape(n_features, -1)\n",
        "    if y_test_batch_i.ndim == 1:\n",
        "         y_test_batch_i = y_test_batch_i.reshape(n_classes, -1)\n",
        "\n",
        "    # Forward pass using the best parameters found during validation\n",
        "    Z_out_test, _ = model_forward(x_test_batch_i, best_params, layer_dims)\n",
        "    Y_test = obs_model(Z_out_test, var_v) # (mu_y, var_y) shapes (n_classes, B)\n",
        "\n",
        "    # Calculate log likelihood for the test batch\n",
        "    batch_test_log_likelihood = log_likelihood(Y_test, y_test_batch_i)\n",
        "    test_log_likelihood += batch_test_log_likelihood\n",
        "\n",
        "    # Get predictions (class index) from logits (mu_y)\n",
        "    mu_y_test, _ = Y_test\n",
        "    batch_preds = np.argmax(mu_y_test, axis=0) # Predicted class index\n",
        "    batch_true = np.argmax(y_test_batch_i, axis=0) # True class index\n",
        "\n",
        "    all_test_preds.extend(batch_preds)\n",
        "    all_test_true.extend(batch_true)\n",
        "\n",
        "# Calculate overall test accuracy\n",
        "test_accuracy = accuracy_score(all_test_true, all_test_preds)\n",
        "avg_test_log_ll = test_log_likelihood / n_samples_test\n",
        "\n",
        "print(f\"\\n--- Test Set Evaluation ---\")\n",
        "print(f\"Average Log-Likelihood on Test Set: {avg_test_log_ll:.4f}\")\n",
        "print(f\"Accuracy on Test Set: {test_accuracy:.4f} ({int(test_accuracy * n_samples_test)} / {n_samples_test})\")"
      ]
    },
    {
      "cell_type": "code",
      "execution_count": 19,
      "id": "6caf3d16",
      "metadata": {},
      "outputs": [
        {
          "data": {
            "image/png": "[encoded data removed]",
            "text/plain": [
              "<Figure size 800x800 with 9 Axes>"
            ]
          },
          "metadata": {},
          "output_type": "display_data"
        }
      ],
      "source": [
        "# Pick 9 random indices from test set\n",
        "sample_indices = np.random.choice(x_test_batch.shape[1], size=9, replace=False)\n",
        "\n",
        "fig, axes = plt.subplots(3, 3, figsize=(8, 8))\n",
        "fig.suptitle('MNIST Predictions vs True Labels', fontsize=16)\n",
        "\n",
        "for i, idx in enumerate(sample_indices):\n",
        "    ax = axes[i // 3, i % 3]\n",
        "    \n",
        "    img = x_test_batch[:, idx].reshape(28, 28)\n",
        "    pred_label = all_test_preds[idx]\n",
        "    true_label = all_test_true[idx]\n",
        "    \n",
        "    # Highlight incorrect predictions in red\n",
        "    if pred_label != true_label:\n",
        "        title_color = 'red'\n",
        "    else:\n",
        "        title_color = 'black'\n",
        "        \n",
        "    ax.imshow(img, cmap='gray')\n",
        "    ax.set_title(f'Pred: {pred_label} | True: {true_label}', color=title_color)\n",
        "    ax.axis('off')\n",
        "\n",
        "plt.tight_layout()\n",
        "plt.subplots_adjust(top=0.90)\n",
        "plt.show()"
      ]
    }
  ],
  "metadata": {
    "kernelspec": {
      "display_name": ".venv",
      "language": "python",
      "name": "python3"
    },
    "language_info": {
      "codemirror_mode": {
        "name": "ipython",
        "version": 3
      },
      "file_extension": ".py",
      "mimetype": "text/x-python",
      "name": "python",
      "nbconvert_exporter": "python",
      "pygments_lexer": "ipython3",
      "version": "3.13.1"
    }
  },
  "nbformat": 4,
  "nbformat_minor": 5
}
